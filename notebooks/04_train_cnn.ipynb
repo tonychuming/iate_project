{
 "cells": [
  {
   "metadata": {},
   "cell_type": "markdown",
   "source": [
    "# Deep Learning CNN Training for Coffee Bean Defect Detection\n",
    "Trains multiple CNN architectures with transfer learning and advanced augmentation\n"
   ],
   "id": "411d4d322a616298"
  },
  {
   "cell_type": "code",
   "id": "initial_id",
   "metadata": {
    "collapsed": true,
    "ExecuteTime": {
     "end_time": "2025-08-15T03:45:51.288173Z",
     "start_time": "2025-08-15T03:45:50.255569Z"
    }
   },
   "source": [
    "import numpy as np\n",
    "import json\n",
    "import pickle\n",
    "import time\n",
    "from pathlib import Path\n",
    "import torch\n",
    "import torch.nn as nn\n",
    "import torch.optim as optim\n",
    "from torch.utils.data import Dataset, DataLoader\n",
    "import torchvision.transforms as transforms\n",
    "import torchvision.models as models\n",
    "from torchvision.models import (\n",
    "    EfficientNet_B0_Weights,\n",
    "    MobileNet_V3_Small_Weights,\n",
    "    ResNet50_Weights,\n",
    ")\n",
    "from PIL import Image\n",
    "from PIL import ImageFile\n",
    "from tqdm.auto import tqdm\n",
    "from sklearn.metrics import accuracy_score, precision_recall_fscore_support, confusion_matrix, roc_auc_score, f1_score\n",
    "\n",
    "ImageFile.LOAD_TRUNCATED_IMAGES = True\n",
    "\n",
    "# Set random seeds for reproducibility\n",
    "RANDOM_SEED = 42\n",
    "torch.manual_seed(RANDOM_SEED)\n",
    "torch.cuda.manual_seed(RANDOM_SEED)\n",
    "np.random.seed(RANDOM_SEED)"
   ],
   "outputs": [],
   "execution_count": 1
  },
  {
   "metadata": {
    "ExecuteTime": {
     "end_time": "2025-08-15T03:45:51.406865Z",
     "start_time": "2025-08-15T03:45:51.331565Z"
    }
   },
   "cell_type": "code",
   "source": [
    "# Set device\n",
    "device = torch.device('cuda' if torch.cuda.is_available() else 'cpu')\n",
    "print(f\"Using device: {device}\")"
   ],
   "id": "36a3c57c4965467",
   "outputs": [
    {
     "name": "stdout",
     "output_type": "stream",
     "text": [
      "Using device: cuda\n"
     ]
    }
   ],
   "execution_count": 2
  },
  {
   "metadata": {
    "ExecuteTime": {
     "end_time": "2025-08-15T03:45:51.416198Z",
     "start_time": "2025-08-15T03:45:51.414064Z"
    }
   },
   "cell_type": "code",
   "source": [
    "# Set project paths\n",
    "PROJECT_ROOT = Path('/home/tony/research_project/iate_project')\n",
    "SPLITS_DIR = PROJECT_ROOT / 'data' / 'splits'\n",
    "RESULTS_DIR = PROJECT_ROOT / 'results'\n",
    "MODELS_DIR = RESULTS_DIR / 'models'\n",
    "METRICS_DIR = RESULTS_DIR / 'metrics'"
   ],
   "id": "4017e88dd05b17c",
   "outputs": [],
   "execution_count": 3
  },
  {
   "metadata": {
    "ExecuteTime": {
     "end_time": "2025-08-15T03:45:51.465905Z",
     "start_time": "2025-08-15T03:45:51.463633Z"
    }
   },
   "cell_type": "code",
   "source": [
    "# Create directories\n",
    "MODELS_DIR.mkdir(parents=True, exist_ok=True)\n",
    "METRICS_DIR.mkdir(parents=True, exist_ok=True)"
   ],
   "id": "77dbd0d739007634",
   "outputs": [],
   "execution_count": 4
  },
  {
   "metadata": {
    "ExecuteTime": {
     "end_time": "2025-08-15T03:45:51.514913Z",
     "start_time": "2025-08-15T03:45:51.512542Z"
    }
   },
   "cell_type": "code",
   "source": [
    "# Hyperparameters\n",
    "BATCH_SIZE = 32\n",
    "NUM_EPOCHS = 20\n",
    "LEARNING_RATE = 1e-4\n",
    "EARLY_STOPPING_PATIENCE = 3\n",
    "NUM_WORKERS = 0\n",
    "IMAGE_SIZE = 224"
   ],
   "id": "d4bf37250bccf164",
   "outputs": [],
   "execution_count": 5
  },
  {
   "metadata": {},
   "cell_type": "markdown",
   "source": "# 1. LOADING DATA SPLITS",
   "id": "f3de0addfb539608"
  },
  {
   "metadata": {
    "ExecuteTime": {
     "end_time": "2025-08-15T03:45:51.566522Z",
     "start_time": "2025-08-15T03:45:51.560038Z"
    }
   },
   "cell_type": "code",
   "source": [
    "with open(SPLITS_DIR / 'splits.pkl', 'rb') as f:\n",
    "    splits = pickle.load(f)\n",
    "\n",
    "train_paths = splits['train_paths']\n",
    "train_labels = splits['train_labels']\n",
    "val_paths = splits['val_paths']\n",
    "val_labels = splits['val_labels']\n",
    "test_paths = splits['test_paths']\n",
    "test_labels = splits['test_labels']\n",
    "\n",
    "print(f\"Train: {len(train_paths)} images\")\n",
    "print(f\"Validation: {len(val_paths)} images\")\n",
    "print(f\"Test: {len(test_paths)} images\")"
   ],
   "id": "9e4f606603c93393",
   "outputs": [
    {
     "name": "stdout",
     "output_type": "stream",
     "text": [
      "Train: 3780 images\n",
      "Validation: 810 images\n",
      "Test: 810 images\n"
     ]
    }
   ],
   "execution_count": 6
  },
  {
   "metadata": {},
   "cell_type": "markdown",
   "source": "# 2. DATASET & AUGMENTATION",
   "id": "60e4c17b7f83aace"
  },
  {
   "metadata": {
    "ExecuteTime": {
     "end_time": "2025-08-15T03:45:51.612805Z",
     "start_time": "2025-08-15T03:45:51.609912Z"
    }
   },
   "cell_type": "code",
   "source": [
    "class CoffeeBeanDataset(Dataset):\n",
    "    def __init__(self, image_paths, labels, transform=None):\n",
    "        self.image_paths = image_paths\n",
    "        self.labels = labels\n",
    "        self.transform = transform\n",
    "\n",
    "    def __len__(self):\n",
    "        return len(self.image_paths)\n",
    "\n",
    "    def __getitem__(self, idx):\n",
    "        image_path = self.image_paths[idx]\n",
    "        label = self.labels[idx]\n",
    "\n",
    "        # Load image\n",
    "        image = Image.open(image_path).convert('RGB')\n",
    "\n",
    "        # Apply transforms\n",
    "        if self.transform:\n",
    "            image = self.transform(image)\n",
    "\n",
    "        return image, label"
   ],
   "id": "fae245bb8dc29164",
   "outputs": [],
   "execution_count": 7
  },
  {
   "metadata": {
    "ExecuteTime": {
     "end_time": "2025-08-15T03:45:51.658853Z",
     "start_time": "2025-08-15T03:45:51.656071Z"
    }
   },
   "cell_type": "code",
   "source": [
    "# Training augmentation - extensive augmentation\n",
    "train_transform = transforms.Compose([\n",
    "    transforms.RandomResizedCrop(IMAGE_SIZE, scale=(0.9, 1.0)),\n",
    "    transforms.RandomHorizontalFlip(p=0.5),\n",
    "    transforms.RandomVerticalFlip(p=0.2),\n",
    "    transforms.RandomRotation(degrees=15),\n",
    "    transforms.ColorJitter(brightness=0.2, contrast=0.2, saturation=0.2, hue=0.05),\n",
    "    transforms.ToTensor(),\n",
    "    transforms.Normalize(mean=[0.485, 0.456, 0.406], std=[0.229, 0.224, 0.225])\n",
    "])\n",
    "\n",
    "# Validation/Test augmentation - only essential preprocessing\n",
    "val_transform = transforms.Compose([\n",
    "    transforms.Resize(256),\n",
    "    transforms.CenterCrop(IMAGE_SIZE),\n",
    "    transforms.ToTensor(),\n",
    "    transforms.Normalize(mean=[0.485, 0.456, 0.406], std=[0.229, 0.224, 0.225])\n",
    "])"
   ],
   "id": "f1e3d1236794a4d2",
   "outputs": [],
   "execution_count": 8
  },
  {
   "metadata": {},
   "cell_type": "markdown",
   "source": "# 3. CREATING DATALOADERS",
   "id": "dcebfa8c0459893f"
  },
  {
   "metadata": {
    "ExecuteTime": {
     "end_time": "2025-08-15T03:45:51.707724Z",
     "start_time": "2025-08-15T03:45:51.704558Z"
    }
   },
   "cell_type": "code",
   "source": [
    "train_dataset = CoffeeBeanDataset(train_paths, train_labels, transform=train_transform)\n",
    "val_dataset = CoffeeBeanDataset(val_paths, val_labels, transform=val_transform)\n",
    "test_dataset = CoffeeBeanDataset(test_paths, test_labels, transform=val_transform)\n",
    "\n",
    "train_loader = DataLoader(\n",
    "    train_dataset,\n",
    "    batch_size=BATCH_SIZE,\n",
    "    shuffle=True,\n",
    "    num_workers=NUM_WORKERS,\n",
    "    pin_memory=torch.cuda.is_available()\n",
    ")\n",
    "\n",
    "val_loader = DataLoader(\n",
    "    val_dataset,\n",
    "    batch_size=BATCH_SIZE,\n",
    "    shuffle=False,\n",
    "    num_workers=NUM_WORKERS,\n",
    "    pin_memory=torch.cuda.is_available()\n",
    ")\n",
    "\n",
    "test_loader = DataLoader(\n",
    "    test_dataset,\n",
    "    batch_size=BATCH_SIZE,\n",
    "    shuffle=False,\n",
    "    num_workers=NUM_WORKERS,\n",
    "    pin_memory=torch.cuda.is_available()\n",
    ")\n",
    "\n",
    "print(f\"Batch size: {BATCH_SIZE}\")\n",
    "print(f\"Train batches: {len(train_loader)}\")\n",
    "print(f\"Val batches: {len(val_loader)}\")\n",
    "print(f\"Test batches: {len(test_loader)}\")"
   ],
   "id": "6dcb4241c6d636a7",
   "outputs": [
    {
     "name": "stdout",
     "output_type": "stream",
     "text": [
      "Batch size: 32\n",
      "Train batches: 119\n",
      "Val batches: 26\n",
      "Test batches: 26\n"
     ]
    }
   ],
   "execution_count": 9
  },
  {
   "metadata": {},
   "cell_type": "markdown",
   "source": "# 4. SETTING UP CNN MODELS",
   "id": "8f55e1deb727aae9"
  },
  {
   "metadata": {
    "ExecuteTime": {
     "end_time": "2025-08-15T03:45:51.759415Z",
     "start_time": "2025-08-15T03:45:51.753097Z"
    }
   },
   "cell_type": "code",
   "source": [
    "def create_model(model_name='efficientnet_b0', use_pretrained=True):\n",
    "    \"\"\"Create a model with the modern 'weights' API (no deprecation warnings).\"\"\"\n",
    "\n",
    "    if model_name == 'efficientnet_b0':\n",
    "        weights = EfficientNet_B0_Weights.DEFAULT if use_pretrained else None\n",
    "        model = models.efficientnet_b0(weights=weights)\n",
    "        num_features = model.classifier[1].in_features\n",
    "        model.classifier = nn.Sequential(\n",
    "            nn.Dropout(p=0.2),\n",
    "            nn.Linear(num_features, 256),\n",
    "            nn.ReLU(),\n",
    "            nn.Dropout(p=0.2),\n",
    "            nn.Linear(256, 2)\n",
    "        )\n",
    "\n",
    "    elif model_name == 'mobilenet_v3':\n",
    "        weights = MobileNet_V3_Small_Weights.DEFAULT if use_pretrained else None\n",
    "        model = models.mobilenet_v3_small(weights=weights)\n",
    "        num_features = model.classifier[0].in_features\n",
    "        model.classifier = nn.Sequential(\n",
    "            nn.Linear(num_features, 256),\n",
    "            nn.Hardswish(),\n",
    "            nn.Dropout(p=0.2),\n",
    "            nn.Linear(256, 2)\n",
    "        )\n",
    "\n",
    "    elif model_name == 'resnet50':\n",
    "        weights = ResNet50_Weights.DEFAULT if use_pretrained else None\n",
    "        model = models.resnet50(weights=weights)\n",
    "        num_features = model.fc.in_features\n",
    "        model.fc = nn.Sequential(\n",
    "            nn.Dropout(p=0.2),\n",
    "            nn.Linear(num_features, 256),\n",
    "            nn.ReLU(),\n",
    "            nn.Dropout(p=0.2),\n",
    "            nn.Linear(256, 2)\n",
    "        )\n",
    "    else:\n",
    "        raise ValueError(f\"Model {model_name} not supported\")\n",
    "\n",
    "    return model\n",
    "\n",
    "# Training function\n",
    "def train_model(model, train_loader, val_loader, model_name, num_epochs=NUM_EPOCHS):\n",
    "    \"\"\"Train a model with early stopping\"\"\"\n",
    "\n",
    "    model = model.to(device)\n",
    "    criterion = nn.CrossEntropyLoss()\n",
    "    optimizer = optim.Adam(model.parameters(), lr=LEARNING_RATE)\n",
    "    scheduler = optim.lr_scheduler.ReduceLROnPlateau(optimizer, mode='min',\n",
    "                                                      factor=0.5, patience=3)\n",
    "\n",
    "    best_val_loss = float('inf')\n",
    "    best_val_acc = 0\n",
    "    patience_counter = 0\n",
    "    train_history = {'loss': [], 'acc': []}\n",
    "    val_history = {'loss': [], 'acc': []}\n",
    "\n",
    "    print(f\"\\nTraining {model_name}...\")\n",
    "    print(\"-\" * 40)\n",
    "\n",
    "    for epoch in range(num_epochs):\n",
    "        # Training phase\n",
    "        model.train()\n",
    "        train_loss = 0.0\n",
    "        train_correct = 0\n",
    "        train_total = 0\n",
    "\n",
    "        train_bar = tqdm(train_loader, desc=f'Epoch {epoch+1}/{num_epochs} [Train]')\n",
    "        for images, labels in train_bar:\n",
    "            images, labels = images.to(device), labels.to(device)\n",
    "\n",
    "            optimizer.zero_grad()\n",
    "            outputs = model(images)\n",
    "            loss = criterion(outputs, labels)\n",
    "            loss.backward()\n",
    "            optimizer.step()\n",
    "\n",
    "            train_loss += loss.item()\n",
    "            _, predicted = torch.max(outputs.data, 1)\n",
    "            train_total += labels.size(0)\n",
    "            train_correct += (predicted == labels).sum().item()\n",
    "\n",
    "            train_bar.set_postfix({'loss': loss.item(),\n",
    "                                  'acc': train_correct/train_total})\n",
    "\n",
    "        avg_train_loss = train_loss / len(train_loader)\n",
    "        train_acc = train_correct / train_total\n",
    "        train_history['loss'].append(avg_train_loss)\n",
    "        train_history['acc'].append(train_acc)\n",
    "\n",
    "        # Validation phase\n",
    "        model.eval()\n",
    "        val_loss = 0.0\n",
    "        val_correct = 0\n",
    "        val_total = 0\n",
    "        all_val_labels = []\n",
    "        all_val_preds = []\n",
    "        all_val_probs = []\n",
    "\n",
    "        with torch.no_grad():\n",
    "            val_bar = tqdm(val_loader, desc=f'Epoch {epoch+1}/{num_epochs} [Val]')\n",
    "            for images, labels in val_bar:\n",
    "                images, labels = images.to(device), labels.to(device)\n",
    "\n",
    "                outputs = model(images)\n",
    "                loss = criterion(outputs, labels)\n",
    "\n",
    "                val_loss += loss.item()\n",
    "                _, predicted = torch.max(outputs.data, 1)\n",
    "                val_total += labels.size(0)\n",
    "                val_correct += (predicted == labels).sum().item()\n",
    "\n",
    "                # Store predictions for metrics\n",
    "                probs = torch.softmax(outputs, dim=1)\n",
    "                all_val_labels.extend(labels.cpu().numpy())\n",
    "                all_val_preds.extend(predicted.cpu().numpy())\n",
    "                all_val_probs.extend(probs[:, 1].cpu().numpy())\n",
    "\n",
    "                val_bar.set_postfix({'loss': loss.item(),\n",
    "                                    'acc': val_correct/val_total})\n",
    "\n",
    "        avg_val_loss = val_loss / len(val_loader)\n",
    "        val_acc = val_correct / val_total\n",
    "        val_history['loss'].append(avg_val_loss)\n",
    "        val_history['acc'].append(val_acc)\n",
    "\n",
    "        # Calculate metrics\n",
    "        precision, recall, f1, _ = precision_recall_fscore_support(\n",
    "            all_val_labels, all_val_preds, average='binary', zero_division=0\n",
    "        )\n",
    "\n",
    "        print(f\"Epoch {epoch+1}/{num_epochs}:\")\n",
    "        print(f\"  Train Loss: {avg_train_loss:.4f}, Train Acc: {train_acc:.4f}\")\n",
    "        print(f\"  Val Loss: {avg_val_loss:.4f}, Val Acc: {val_acc:.4f}\")\n",
    "        print(f\"  Val Precision: {precision:.4f}, Recall: {recall:.4f}, F1: {f1:.4f}\")\n",
    "\n",
    "        # Learning rate scheduling\n",
    "        scheduler.step(avg_val_loss)\n",
    "\n",
    "        # Early stopping check\n",
    "        if avg_val_loss < best_val_loss:\n",
    "            best_val_loss = avg_val_loss\n",
    "            best_val_acc = val_acc\n",
    "            patience_counter = 0\n",
    "\n",
    "            # Save best model\n",
    "            torch.save({\n",
    "                'epoch': epoch,\n",
    "                'model_state_dict': model.state_dict(),\n",
    "                'optimizer_state_dict': optimizer.state_dict(),\n",
    "                'val_loss': avg_val_loss,\n",
    "                'val_acc': val_acc\n",
    "            }, MODELS_DIR / f'cnn_{model_name}_best.pth')\n",
    "        else:\n",
    "            patience_counter += 1\n",
    "            if patience_counter >= EARLY_STOPPING_PATIENCE:\n",
    "                print(f\"Early stopping triggered at epoch {epoch+1}\")\n",
    "                break\n",
    "\n",
    "    return model, train_history, val_history"
   ],
   "id": "2418f100116d6b15",
   "outputs": [],
   "execution_count": 10
  },
  {
   "metadata": {},
   "cell_type": "markdown",
   "source": "# 5. TRAINING CNN MODELS",
   "id": "7c11e9bc67cbcea8"
  },
  {
   "metadata": {
    "ExecuteTime": {
     "end_time": "2025-08-15T03:53:52.520901Z",
     "start_time": "2025-08-15T03:45:51.800564Z"
    }
   },
   "cell_type": "code",
   "source": [
    "models_to_train = ['efficientnet_b0', 'mobilenet_v3']  # Can add 'resnet50' if needed\n",
    "results = {}\n",
    "\n",
    "for model_name in models_to_train:\n",
    "    print(f\"\\n{'='*60}\")\n",
    "    print(f\"Model: {model_name.upper()}\")\n",
    "    print('='*60)\n",
    "\n",
    "    # Create model\n",
    "    model = create_model(model_name)\n",
    "\n",
    "    # Count parameters\n",
    "    total_params = sum(p.numel() for p in model.parameters())\n",
    "    trainable_params = sum(p.numel() for p in model.parameters() if p.requires_grad)\n",
    "    print(f\"Total parameters: {total_params:,}\")\n",
    "    print(f\"Trainable parameters: {trainable_params:,}\")\n",
    "\n",
    "    # Train model\n",
    "    start_time = time.time()\n",
    "    model, train_history, val_history = train_model(model, train_loader, val_loader, model_name)\n",
    "    train_time = time.time() - start_time\n",
    "\n",
    "    # Load best model\n",
    "    checkpoint = torch.load(MODELS_DIR / f'cnn_{model_name}_best.pth')\n",
    "    model.load_state_dict(checkpoint['model_state_dict'])\n",
    "\n",
    "    # Evaluate on validation set\n",
    "    model.eval()\n",
    "    val_labels_all = []\n",
    "    val_preds_all = []\n",
    "    val_probs_all = []\n",
    "\n",
    "    with torch.no_grad():\n",
    "        for images, labels in val_loader:\n",
    "            images, labels = images.to(device), labels.to(device)\n",
    "            outputs = model(images)\n",
    "            probs = torch.softmax(outputs, dim=1)\n",
    "            _, predicted = torch.max(outputs.data, 1)\n",
    "\n",
    "            val_labels_all.extend(labels.cpu().numpy())\n",
    "            val_preds_all.extend(predicted.cpu().numpy())\n",
    "            val_probs_all.extend(probs[:, 1].cpu().numpy())\n",
    "\n",
    "    # Calculate metrics\n",
    "    val_acc = accuracy_score(val_labels_all, val_preds_all)\n",
    "    val_precision, val_recall, val_f1, _ = precision_recall_fscore_support(\n",
    "        val_labels_all, val_preds_all, average='binary', zero_division=0\n",
    "    )\n",
    "    val_auc = roc_auc_score(val_labels_all, val_probs_all)\n",
    "    val_cm = confusion_matrix(val_labels_all, val_preds_all, labels=[0, 1])\n",
    "\n",
    "    # Store results\n",
    "    results[model_name] = {\n",
    "        'val_accuracy': val_acc,\n",
    "        'val_precision': val_precision,\n",
    "        'val_recall': val_recall,\n",
    "        'val_f1_score': val_f1,\n",
    "        'val_auc': val_auc,\n",
    "        'confusion_matrix': val_cm.tolist(),\n",
    "        'train_time': train_time,\n",
    "        'best_epoch': checkpoint['epoch'],\n",
    "        'train_history': train_history,\n",
    "        'val_history': val_history,\n",
    "        'total_params': total_params,\n",
    "        'trainable_params': trainable_params\n",
    "    }\n",
    "\n",
    "    print(f\"\\nValidation Results:\")\n",
    "    print(f\"  Accuracy: {val_acc:.4f}\")\n",
    "    print(f\"  Precision: {val_precision:.4f}\")\n",
    "    print(f\"  Recall: {val_recall:.4f}\")\n",
    "    print(f\"  F1-Score: {val_f1:.4f}\")\n",
    "    print(f\"  AUC: {val_auc:.4f}\")\n",
    "    print(f\"  Training time: {train_time/60:.2f} minutes\")\n",
    "\n",
    "# Select best model\n",
    "best_model_name = max(results, key=lambda x: results[x]['val_f1_score'])\n",
    "print(f\"\\nBEST MODEL SELECTION\")\n",
    "print(\"-\"*40)\n",
    "print(f\"Best model: {best_model_name}\")\n",
    "print(f\"Validation F1-Score: {results[best_model_name]['val_f1_score']:.4f}\")"
   ],
   "id": "dddd86badea8afe1",
   "outputs": [
    {
     "name": "stdout",
     "output_type": "stream",
     "text": [
      "\n",
      "============================================================\n",
      "Model: EFFICIENTNET_B0\n",
      "============================================================\n",
      "Total parameters: 4,335,998\n",
      "Trainable parameters: 4,335,998\n",
      "\n",
      "Training efficientnet_b0...\n",
      "----------------------------------------\n"
     ]
    },
    {
     "data": {
      "text/plain": [
       "Epoch 1/20 [Train]:   0%|          | 0/119 [00:00<?, ?it/s]"
      ],
      "application/vnd.jupyter.widget-view+json": {
       "version_major": 2,
       "version_minor": 0,
       "model_id": "f0824c0e94a54d03a1ecebbe51eded41"
      }
     },
     "metadata": {},
     "output_type": "display_data"
    },
    {
     "data": {
      "text/plain": [
       "Epoch 1/20 [Val]:   0%|          | 0/26 [00:00<?, ?it/s]"
      ],
      "application/vnd.jupyter.widget-view+json": {
       "version_major": 2,
       "version_minor": 0,
       "model_id": "74e4a4c805d74e998ee09c889b6d3ede"
      }
     },
     "metadata": {},
     "output_type": "display_data"
    },
    {
     "name": "stdout",
     "output_type": "stream",
     "text": [
      "Epoch 1/20:\n",
      "  Train Loss: 0.4239, Train Acc: 0.8071\n",
      "  Val Loss: 0.2593, Val Acc: 0.8926\n",
      "  Val Precision: 0.9645, Recall: 0.7037, F1: 0.8137\n"
     ]
    },
    {
     "data": {
      "text/plain": [
       "Epoch 2/20 [Train]:   0%|          | 0/119 [00:00<?, ?it/s]"
      ],
      "application/vnd.jupyter.widget-view+json": {
       "version_major": 2,
       "version_minor": 0,
       "model_id": "c09fa0c6eb2b45169d830f545dc1b717"
      }
     },
     "metadata": {},
     "output_type": "display_data"
    },
    {
     "data": {
      "text/plain": [
       "Epoch 2/20 [Val]:   0%|          | 0/26 [00:00<?, ?it/s]"
      ],
      "application/vnd.jupyter.widget-view+json": {
       "version_major": 2,
       "version_minor": 0,
       "model_id": "68361d57605b465eb4b0daee458ca09f"
      }
     },
     "metadata": {},
     "output_type": "display_data"
    },
    {
     "name": "stdout",
     "output_type": "stream",
     "text": [
      "Epoch 2/20:\n",
      "  Train Loss: 0.2215, Train Acc: 0.9135\n",
      "  Val Loss: 0.1913, Val Acc: 0.9247\n",
      "  Val Precision: 0.9485, Recall: 0.8185, F1: 0.8787\n"
     ]
    },
    {
     "data": {
      "text/plain": [
       "Epoch 3/20 [Train]:   0%|          | 0/119 [00:00<?, ?it/s]"
      ],
      "application/vnd.jupyter.widget-view+json": {
       "version_major": 2,
       "version_minor": 0,
       "model_id": "32f11f821d184abb8aa55fa1df1b0f05"
      }
     },
     "metadata": {},
     "output_type": "display_data"
    },
    {
     "data": {
      "text/plain": [
       "Epoch 3/20 [Val]:   0%|          | 0/26 [00:00<?, ?it/s]"
      ],
      "application/vnd.jupyter.widget-view+json": {
       "version_major": 2,
       "version_minor": 0,
       "model_id": "a5e5d10582e04461be196ea966929607"
      }
     },
     "metadata": {},
     "output_type": "display_data"
    },
    {
     "name": "stdout",
     "output_type": "stream",
     "text": [
      "Epoch 3/20:\n",
      "  Train Loss: 0.1779, Train Acc: 0.9310\n",
      "  Val Loss: 0.1767, Val Acc: 0.9333\n",
      "  Val Precision: 0.9186, Recall: 0.8778, F1: 0.8977\n"
     ]
    },
    {
     "data": {
      "text/plain": [
       "Epoch 4/20 [Train]:   0%|          | 0/119 [00:00<?, ?it/s]"
      ],
      "application/vnd.jupyter.widget-view+json": {
       "version_major": 2,
       "version_minor": 0,
       "model_id": "fdb43b7956a4491d8a8de3cf826adf79"
      }
     },
     "metadata": {},
     "output_type": "display_data"
    },
    {
     "data": {
      "text/plain": [
       "Epoch 4/20 [Val]:   0%|          | 0/26 [00:00<?, ?it/s]"
      ],
      "application/vnd.jupyter.widget-view+json": {
       "version_major": 2,
       "version_minor": 0,
       "model_id": "3015e5e52f3d421d841a7086156f311e"
      }
     },
     "metadata": {},
     "output_type": "display_data"
    },
    {
     "name": "stdout",
     "output_type": "stream",
     "text": [
      "Epoch 4/20:\n",
      "  Train Loss: 0.1648, Train Acc: 0.9370\n",
      "  Val Loss: 0.1879, Val Acc: 0.9309\n",
      "  Val Precision: 0.9820, Recall: 0.8074, F1: 0.8862\n"
     ]
    },
    {
     "data": {
      "text/plain": [
       "Epoch 5/20 [Train]:   0%|          | 0/119 [00:00<?, ?it/s]"
      ],
      "application/vnd.jupyter.widget-view+json": {
       "version_major": 2,
       "version_minor": 0,
       "model_id": "81e437357e7e4368b2fb5e75cd38f5d3"
      }
     },
     "metadata": {},
     "output_type": "display_data"
    },
    {
     "data": {
      "text/plain": [
       "Epoch 5/20 [Val]:   0%|          | 0/26 [00:00<?, ?it/s]"
      ],
      "application/vnd.jupyter.widget-view+json": {
       "version_major": 2,
       "version_minor": 0,
       "model_id": "df980bc3e2b9437ea543facc22750f9c"
      }
     },
     "metadata": {},
     "output_type": "display_data"
    },
    {
     "name": "stdout",
     "output_type": "stream",
     "text": [
      "Epoch 5/20:\n",
      "  Train Loss: 0.1423, Train Acc: 0.9421\n",
      "  Val Loss: 0.1876, Val Acc: 0.9346\n",
      "  Val Precision: 0.9465, Recall: 0.8519, F1: 0.8967\n"
     ]
    },
    {
     "data": {
      "text/plain": [
       "Epoch 6/20 [Train]:   0%|          | 0/119 [00:00<?, ?it/s]"
      ],
      "application/vnd.jupyter.widget-view+json": {
       "version_major": 2,
       "version_minor": 0,
       "model_id": "bb0863be71264c0290a182550d0d93ea"
      }
     },
     "metadata": {},
     "output_type": "display_data"
    },
    {
     "data": {
      "text/plain": [
       "Epoch 6/20 [Val]:   0%|          | 0/26 [00:00<?, ?it/s]"
      ],
      "application/vnd.jupyter.widget-view+json": {
       "version_major": 2,
       "version_minor": 0,
       "model_id": "1ce1009aeb6941deab0493f6c702001a"
      }
     },
     "metadata": {},
     "output_type": "display_data"
    },
    {
     "name": "stdout",
     "output_type": "stream",
     "text": [
      "Epoch 6/20:\n",
      "  Train Loss: 0.1244, Train Acc: 0.9534\n",
      "  Val Loss: 0.1879, Val Acc: 0.9395\n",
      "  Val Precision: 0.9585, Recall: 0.8556, F1: 0.9041\n",
      "Early stopping triggered at epoch 6\n",
      "\n",
      "Validation Results:\n",
      "  Accuracy: 0.9333\n",
      "  Precision: 0.9186\n",
      "  Recall: 0.8778\n",
      "  F1-Score: 0.8977\n",
      "  AUC: 0.9776\n",
      "  Training time: 1.83 minutes\n",
      "\n",
      "============================================================\n",
      "Model: MOBILENET_V3\n",
      "============================================================\n",
      "Total parameters: 1,075,234\n",
      "Trainable parameters: 1,075,234\n",
      "\n",
      "Training mobilenet_v3...\n",
      "----------------------------------------\n"
     ]
    },
    {
     "data": {
      "text/plain": [
       "Epoch 1/20 [Train]:   0%|          | 0/119 [00:00<?, ?it/s]"
      ],
      "application/vnd.jupyter.widget-view+json": {
       "version_major": 2,
       "version_minor": 0,
       "model_id": "201db70db53c44d9b2e28997e8ef724b"
      }
     },
     "metadata": {},
     "output_type": "display_data"
    },
    {
     "data": {
      "text/plain": [
       "Epoch 1/20 [Val]:   0%|          | 0/26 [00:00<?, ?it/s]"
      ],
      "application/vnd.jupyter.widget-view+json": {
       "version_major": 2,
       "version_minor": 0,
       "model_id": "636b819ebbfa45faa5f5f4f963e79461"
      }
     },
     "metadata": {},
     "output_type": "display_data"
    },
    {
     "name": "stdout",
     "output_type": "stream",
     "text": [
      "Epoch 1/20:\n",
      "  Train Loss: 0.4496, Train Acc: 0.7889\n",
      "  Val Loss: 1.1963, Val Acc: 0.6926\n",
      "  Val Precision: 1.0000, Recall: 0.0778, F1: 0.1443\n"
     ]
    },
    {
     "data": {
      "text/plain": [
       "Epoch 2/20 [Train]:   0%|          | 0/119 [00:00<?, ?it/s]"
      ],
      "application/vnd.jupyter.widget-view+json": {
       "version_major": 2,
       "version_minor": 0,
       "model_id": "b2862b9c807643d384f42bda690383b4"
      }
     },
     "metadata": {},
     "output_type": "display_data"
    },
    {
     "data": {
      "text/plain": [
       "Epoch 2/20 [Val]:   0%|          | 0/26 [00:00<?, ?it/s]"
      ],
      "application/vnd.jupyter.widget-view+json": {
       "version_major": 2,
       "version_minor": 0,
       "model_id": "24d2c4feccc1492b8a2c19725727418c"
      }
     },
     "metadata": {},
     "output_type": "display_data"
    },
    {
     "name": "stdout",
     "output_type": "stream",
     "text": [
      "Epoch 2/20:\n",
      "  Train Loss: 0.2548, Train Acc: 0.8981\n",
      "  Val Loss: 0.7474, Val Acc: 0.7494\n",
      "  Val Precision: 1.0000, Recall: 0.2481, F1: 0.3976\n"
     ]
    },
    {
     "data": {
      "text/plain": [
       "Epoch 3/20 [Train]:   0%|          | 0/119 [00:00<?, ?it/s]"
      ],
      "application/vnd.jupyter.widget-view+json": {
       "version_major": 2,
       "version_minor": 0,
       "model_id": "0f3b9c83b8724d219c6a11e325737ab3"
      }
     },
     "metadata": {},
     "output_type": "display_data"
    },
    {
     "data": {
      "text/plain": [
       "Epoch 3/20 [Val]:   0%|          | 0/26 [00:00<?, ?it/s]"
      ],
      "application/vnd.jupyter.widget-view+json": {
       "version_major": 2,
       "version_minor": 0,
       "model_id": "e1976a9f7fef4b6a9b446b3c14e1ca10"
      }
     },
     "metadata": {},
     "output_type": "display_data"
    },
    {
     "name": "stdout",
     "output_type": "stream",
     "text": [
      "Epoch 3/20:\n",
      "  Train Loss: 0.2085, Train Acc: 0.9148\n",
      "  Val Loss: 0.3340, Val Acc: 0.8765\n",
      "  Val Precision: 0.9885, Recall: 0.6370, F1: 0.7748\n"
     ]
    },
    {
     "data": {
      "text/plain": [
       "Epoch 4/20 [Train]:   0%|          | 0/119 [00:00<?, ?it/s]"
      ],
      "application/vnd.jupyter.widget-view+json": {
       "version_major": 2,
       "version_minor": 0,
       "model_id": "ce68ef0c78064ebf8e0c92162751d216"
      }
     },
     "metadata": {},
     "output_type": "display_data"
    },
    {
     "data": {
      "text/plain": [
       "Epoch 4/20 [Val]:   0%|          | 0/26 [00:00<?, ?it/s]"
      ],
      "application/vnd.jupyter.widget-view+json": {
       "version_major": 2,
       "version_minor": 0,
       "model_id": "8bc368bf33504e8d88c56d94f22f2702"
      }
     },
     "metadata": {},
     "output_type": "display_data"
    },
    {
     "name": "stdout",
     "output_type": "stream",
     "text": [
      "Epoch 4/20:\n",
      "  Train Loss: 0.1873, Train Acc: 0.9249\n",
      "  Val Loss: 0.3474, Val Acc: 0.8617\n",
      "  Val Precision: 0.9938, Recall: 0.5889, F1: 0.7395\n"
     ]
    },
    {
     "data": {
      "text/plain": [
       "Epoch 5/20 [Train]:   0%|          | 0/119 [00:00<?, ?it/s]"
      ],
      "application/vnd.jupyter.widget-view+json": {
       "version_major": 2,
       "version_minor": 0,
       "model_id": "00e7512e719742ea9786637adf596620"
      }
     },
     "metadata": {},
     "output_type": "display_data"
    },
    {
     "data": {
      "text/plain": [
       "Epoch 5/20 [Val]:   0%|          | 0/26 [00:00<?, ?it/s]"
      ],
      "application/vnd.jupyter.widget-view+json": {
       "version_major": 2,
       "version_minor": 0,
       "model_id": "30dca441abd44a8587ea0f2fc1980b1f"
      }
     },
     "metadata": {},
     "output_type": "display_data"
    },
    {
     "name": "stdout",
     "output_type": "stream",
     "text": [
      "Epoch 5/20:\n",
      "  Train Loss: 0.1800, Train Acc: 0.9310\n",
      "  Val Loss: 0.2055, Val Acc: 0.9173\n",
      "  Val Precision: 0.9319, Recall: 0.8111, F1: 0.8673\n"
     ]
    },
    {
     "data": {
      "text/plain": [
       "Epoch 6/20 [Train]:   0%|          | 0/119 [00:00<?, ?it/s]"
      ],
      "application/vnd.jupyter.widget-view+json": {
       "version_major": 2,
       "version_minor": 0,
       "model_id": "f428363d530a4a0783f2974cc5839493"
      }
     },
     "metadata": {},
     "output_type": "display_data"
    },
    {
     "data": {
      "text/plain": [
       "Epoch 6/20 [Val]:   0%|          | 0/26 [00:00<?, ?it/s]"
      ],
      "application/vnd.jupyter.widget-view+json": {
       "version_major": 2,
       "version_minor": 0,
       "model_id": "5fda3fccb32347b0b0261141cf5a5a63"
      }
     },
     "metadata": {},
     "output_type": "display_data"
    },
    {
     "name": "stdout",
     "output_type": "stream",
     "text": [
      "Epoch 6/20:\n",
      "  Train Loss: 0.1535, Train Acc: 0.9431\n",
      "  Val Loss: 0.2293, Val Acc: 0.9049\n",
      "  Val Precision: 0.9573, Recall: 0.7481, F1: 0.8399\n"
     ]
    },
    {
     "data": {
      "text/plain": [
       "Epoch 7/20 [Train]:   0%|          | 0/119 [00:00<?, ?it/s]"
      ],
      "application/vnd.jupyter.widget-view+json": {
       "version_major": 2,
       "version_minor": 0,
       "model_id": "379b86637e034efc9049baa14f6cd81f"
      }
     },
     "metadata": {},
     "output_type": "display_data"
    },
    {
     "data": {
      "text/plain": [
       "Epoch 7/20 [Val]:   0%|          | 0/26 [00:00<?, ?it/s]"
      ],
      "application/vnd.jupyter.widget-view+json": {
       "version_major": 2,
       "version_minor": 0,
       "model_id": "4da81ca35c574ad788b859d630760d92"
      }
     },
     "metadata": {},
     "output_type": "display_data"
    },
    {
     "name": "stdout",
     "output_type": "stream",
     "text": [
      "Epoch 7/20:\n",
      "  Train Loss: 0.1472, Train Acc: 0.9439\n",
      "  Val Loss: 0.2859, Val Acc: 0.8951\n",
      "  Val Precision: 0.9894, Recall: 0.6926, F1: 0.8148\n"
     ]
    },
    {
     "data": {
      "text/plain": [
       "Epoch 8/20 [Train]:   0%|          | 0/119 [00:00<?, ?it/s]"
      ],
      "application/vnd.jupyter.widget-view+json": {
       "version_major": 2,
       "version_minor": 0,
       "model_id": "209993325dc34f6a9e1ea861ce110fe2"
      }
     },
     "metadata": {},
     "output_type": "display_data"
    },
    {
     "data": {
      "text/plain": [
       "Epoch 8/20 [Val]:   0%|          | 0/26 [00:00<?, ?it/s]"
      ],
      "application/vnd.jupyter.widget-view+json": {
       "version_major": 2,
       "version_minor": 0,
       "model_id": "9c4314fa0d4d4d259f316aa1a0972fb6"
      }
     },
     "metadata": {},
     "output_type": "display_data"
    },
    {
     "name": "stdout",
     "output_type": "stream",
     "text": [
      "Epoch 8/20:\n",
      "  Train Loss: 0.1490, Train Acc: 0.9386\n",
      "  Val Loss: 0.1956, Val Acc: 0.9346\n",
      "  Val Precision: 0.9617, Recall: 0.8370, F1: 0.8950\n"
     ]
    },
    {
     "data": {
      "text/plain": [
       "Epoch 9/20 [Train]:   0%|          | 0/119 [00:00<?, ?it/s]"
      ],
      "application/vnd.jupyter.widget-view+json": {
       "version_major": 2,
       "version_minor": 0,
       "model_id": "9acb5fbb87934a108208a869a093b0a7"
      }
     },
     "metadata": {},
     "output_type": "display_data"
    },
    {
     "data": {
      "text/plain": [
       "Epoch 9/20 [Val]:   0%|          | 0/26 [00:00<?, ?it/s]"
      ],
      "application/vnd.jupyter.widget-view+json": {
       "version_major": 2,
       "version_minor": 0,
       "model_id": "6ac9eb7c69514e5b8c59694330209dee"
      }
     },
     "metadata": {},
     "output_type": "display_data"
    },
    {
     "name": "stdout",
     "output_type": "stream",
     "text": [
      "Epoch 9/20:\n",
      "  Train Loss: 0.1288, Train Acc: 0.9524\n",
      "  Val Loss: 0.2145, Val Acc: 0.9210\n",
      "  Val Precision: 0.9813, Recall: 0.7778, F1: 0.8678\n"
     ]
    },
    {
     "data": {
      "text/plain": [
       "Epoch 10/20 [Train]:   0%|          | 0/119 [00:00<?, ?it/s]"
      ],
      "application/vnd.jupyter.widget-view+json": {
       "version_major": 2,
       "version_minor": 0,
       "model_id": "57a03949d9f644b4b9fe159ee27e1ff4"
      }
     },
     "metadata": {},
     "output_type": "display_data"
    },
    {
     "data": {
      "text/plain": [
       "Epoch 10/20 [Val]:   0%|          | 0/26 [00:00<?, ?it/s]"
      ],
      "application/vnd.jupyter.widget-view+json": {
       "version_major": 2,
       "version_minor": 0,
       "model_id": "01ddf2862ca4496bbb4f76d3beca8b0a"
      }
     },
     "metadata": {},
     "output_type": "display_data"
    },
    {
     "name": "stdout",
     "output_type": "stream",
     "text": [
      "Epoch 10/20:\n",
      "  Train Loss: 0.1364, Train Acc: 0.9497\n",
      "  Val Loss: 0.1703, Val Acc: 0.9444\n",
      "  Val Precision: 0.9412, Recall: 0.8889, F1: 0.9143\n"
     ]
    },
    {
     "data": {
      "text/plain": [
       "Epoch 11/20 [Train]:   0%|          | 0/119 [00:00<?, ?it/s]"
      ],
      "application/vnd.jupyter.widget-view+json": {
       "version_major": 2,
       "version_minor": 0,
       "model_id": "9cc7747750dc4aceb70e84e38f72f775"
      }
     },
     "metadata": {},
     "output_type": "display_data"
    },
    {
     "data": {
      "text/plain": [
       "Epoch 11/20 [Val]:   0%|          | 0/26 [00:00<?, ?it/s]"
      ],
      "application/vnd.jupyter.widget-view+json": {
       "version_major": 2,
       "version_minor": 0,
       "model_id": "375dc8a4e1b240ef80ac3cabb0c0c139"
      }
     },
     "metadata": {},
     "output_type": "display_data"
    },
    {
     "name": "stdout",
     "output_type": "stream",
     "text": [
      "Epoch 11/20:\n",
      "  Train Loss: 0.1167, Train Acc: 0.9558\n",
      "  Val Loss: 0.2437, Val Acc: 0.9259\n",
      "  Val Precision: 0.9817, Recall: 0.7926, F1: 0.8770\n"
     ]
    },
    {
     "data": {
      "text/plain": [
       "Epoch 12/20 [Train]:   0%|          | 0/119 [00:00<?, ?it/s]"
      ],
      "application/vnd.jupyter.widget-view+json": {
       "version_major": 2,
       "version_minor": 0,
       "model_id": "0141dcfeeeee4313b7e7157d0543cf5d"
      }
     },
     "metadata": {},
     "output_type": "display_data"
    },
    {
     "data": {
      "text/plain": [
       "Epoch 12/20 [Val]:   0%|          | 0/26 [00:00<?, ?it/s]"
      ],
      "application/vnd.jupyter.widget-view+json": {
       "version_major": 2,
       "version_minor": 0,
       "model_id": "5a349bfd5bc5419cab941b94151e6ef5"
      }
     },
     "metadata": {},
     "output_type": "display_data"
    },
    {
     "name": "stdout",
     "output_type": "stream",
     "text": [
      "Epoch 12/20:\n",
      "  Train Loss: 0.1198, Train Acc: 0.9556\n",
      "  Val Loss: 0.2319, Val Acc: 0.9222\n",
      "  Val Precision: 0.9770, Recall: 0.7852, F1: 0.8706\n"
     ]
    },
    {
     "data": {
      "text/plain": [
       "Epoch 13/20 [Train]:   0%|          | 0/119 [00:00<?, ?it/s]"
      ],
      "application/vnd.jupyter.widget-view+json": {
       "version_major": 2,
       "version_minor": 0,
       "model_id": "accd233b9330430e997ac3ef117ed2ff"
      }
     },
     "metadata": {},
     "output_type": "display_data"
    },
    {
     "data": {
      "text/plain": [
       "Epoch 13/20 [Val]:   0%|          | 0/26 [00:00<?, ?it/s]"
      ],
      "application/vnd.jupyter.widget-view+json": {
       "version_major": 2,
       "version_minor": 0,
       "model_id": "72301059d7c94b28b9d849dbdfa3778e"
      }
     },
     "metadata": {},
     "output_type": "display_data"
    },
    {
     "name": "stdout",
     "output_type": "stream",
     "text": [
      "Epoch 13/20:\n",
      "  Train Loss: 0.1183, Train Acc: 0.9513\n",
      "  Val Loss: 0.1576, Val Acc: 0.9457\n",
      "  Val Precision: 0.9520, Recall: 0.8815, F1: 0.9154\n"
     ]
    },
    {
     "data": {
      "text/plain": [
       "Epoch 14/20 [Train]:   0%|          | 0/119 [00:00<?, ?it/s]"
      ],
      "application/vnd.jupyter.widget-view+json": {
       "version_major": 2,
       "version_minor": 0,
       "model_id": "e970f6ef378047f8a32596dc15a7c915"
      }
     },
     "metadata": {},
     "output_type": "display_data"
    },
    {
     "data": {
      "text/plain": [
       "Epoch 14/20 [Val]:   0%|          | 0/26 [00:00<?, ?it/s]"
      ],
      "application/vnd.jupyter.widget-view+json": {
       "version_major": 2,
       "version_minor": 0,
       "model_id": "f1a7eee5967c4a6cbd6f30feab55b638"
      }
     },
     "metadata": {},
     "output_type": "display_data"
    },
    {
     "name": "stdout",
     "output_type": "stream",
     "text": [
      "Epoch 14/20:\n",
      "  Train Loss: 0.1148, Train Acc: 0.9569\n",
      "  Val Loss: 0.1651, Val Acc: 0.9395\n",
      "  Val Precision: 0.9139, Recall: 0.9037, F1: 0.9088\n"
     ]
    },
    {
     "data": {
      "text/plain": [
       "Epoch 15/20 [Train]:   0%|          | 0/119 [00:00<?, ?it/s]"
      ],
      "application/vnd.jupyter.widget-view+json": {
       "version_major": 2,
       "version_minor": 0,
       "model_id": "f6c6a6dee6f94c28becedecba331a87b"
      }
     },
     "metadata": {},
     "output_type": "display_data"
    },
    {
     "data": {
      "text/plain": [
       "Epoch 15/20 [Val]:   0%|          | 0/26 [00:00<?, ?it/s]"
      ],
      "application/vnd.jupyter.widget-view+json": {
       "version_major": 2,
       "version_minor": 0,
       "model_id": "709cb7f8b2b34d088813a89b37721c60"
      }
     },
     "metadata": {},
     "output_type": "display_data"
    },
    {
     "name": "stdout",
     "output_type": "stream",
     "text": [
      "Epoch 15/20:\n",
      "  Train Loss: 0.1046, Train Acc: 0.9587\n",
      "  Val Loss: 0.2672, Val Acc: 0.9198\n",
      "  Val Precision: 0.9952, Recall: 0.7630, F1: 0.8637\n"
     ]
    },
    {
     "data": {
      "text/plain": [
       "Epoch 16/20 [Train]:   0%|          | 0/119 [00:00<?, ?it/s]"
      ],
      "application/vnd.jupyter.widget-view+json": {
       "version_major": 2,
       "version_minor": 0,
       "model_id": "6272b5dfa4df427fb640a64a9f6134d3"
      }
     },
     "metadata": {},
     "output_type": "display_data"
    },
    {
     "data": {
      "text/plain": [
       "Epoch 16/20 [Val]:   0%|          | 0/26 [00:00<?, ?it/s]"
      ],
      "application/vnd.jupyter.widget-view+json": {
       "version_major": 2,
       "version_minor": 0,
       "model_id": "0b5dc02e7ec8468597fb6d525bdbc13d"
      }
     },
     "metadata": {},
     "output_type": "display_data"
    },
    {
     "name": "stdout",
     "output_type": "stream",
     "text": [
      "Epoch 16/20:\n",
      "  Train Loss: 0.1273, Train Acc: 0.9624\n",
      "  Val Loss: 0.1572, Val Acc: 0.9457\n",
      "  Val Precision: 0.9280, Recall: 0.9074, F1: 0.9176\n"
     ]
    },
    {
     "data": {
      "text/plain": [
       "Epoch 17/20 [Train]:   0%|          | 0/119 [00:00<?, ?it/s]"
      ],
      "application/vnd.jupyter.widget-view+json": {
       "version_major": 2,
       "version_minor": 0,
       "model_id": "76acbd093910460984852b16a01c70c4"
      }
     },
     "metadata": {},
     "output_type": "display_data"
    },
    {
     "data": {
      "text/plain": [
       "Epoch 17/20 [Val]:   0%|          | 0/26 [00:00<?, ?it/s]"
      ],
      "application/vnd.jupyter.widget-view+json": {
       "version_major": 2,
       "version_minor": 0,
       "model_id": "780f5672f3f246eba75807f98a17efc4"
      }
     },
     "metadata": {},
     "output_type": "display_data"
    },
    {
     "name": "stdout",
     "output_type": "stream",
     "text": [
      "Epoch 17/20:\n",
      "  Train Loss: 0.1018, Train Acc: 0.9606\n",
      "  Val Loss: 0.2627, Val Acc: 0.9086\n",
      "  Val Precision: 1.0000, Recall: 0.7259, F1: 0.8412\n"
     ]
    },
    {
     "data": {
      "text/plain": [
       "Epoch 18/20 [Train]:   0%|          | 0/119 [00:00<?, ?it/s]"
      ],
      "application/vnd.jupyter.widget-view+json": {
       "version_major": 2,
       "version_minor": 0,
       "model_id": "8e51e35ce88541b081ce23c9806344ee"
      }
     },
     "metadata": {},
     "output_type": "display_data"
    },
    {
     "data": {
      "text/plain": [
       "Epoch 18/20 [Val]:   0%|          | 0/26 [00:00<?, ?it/s]"
      ],
      "application/vnd.jupyter.widget-view+json": {
       "version_major": 2,
       "version_minor": 0,
       "model_id": "a919d218e7d04834975927e521e208a5"
      }
     },
     "metadata": {},
     "output_type": "display_data"
    },
    {
     "name": "stdout",
     "output_type": "stream",
     "text": [
      "Epoch 18/20:\n",
      "  Train Loss: 0.0887, Train Acc: 0.9680\n",
      "  Val Loss: 0.1445, Val Acc: 0.9481\n",
      "  Val Precision: 0.9161, Recall: 0.9296, F1: 0.9228\n"
     ]
    },
    {
     "data": {
      "text/plain": [
       "Epoch 19/20 [Train]:   0%|          | 0/119 [00:00<?, ?it/s]"
      ],
      "application/vnd.jupyter.widget-view+json": {
       "version_major": 2,
       "version_minor": 0,
       "model_id": "5762cb5620744a80936d86c931809a2f"
      }
     },
     "metadata": {},
     "output_type": "display_data"
    },
    {
     "data": {
      "text/plain": [
       "Epoch 19/20 [Val]:   0%|          | 0/26 [00:00<?, ?it/s]"
      ],
      "application/vnd.jupyter.widget-view+json": {
       "version_major": 2,
       "version_minor": 0,
       "model_id": "6a7b15b5e6f341e7982f1ea5acee2c59"
      }
     },
     "metadata": {},
     "output_type": "display_data"
    },
    {
     "name": "stdout",
     "output_type": "stream",
     "text": [
      "Epoch 19/20:\n",
      "  Train Loss: 0.0800, Train Acc: 0.9680\n",
      "  Val Loss: 0.1688, Val Acc: 0.9432\n",
      "  Val Precision: 0.9628, Recall: 0.8630, F1: 0.9102\n"
     ]
    },
    {
     "data": {
      "text/plain": [
       "Epoch 20/20 [Train]:   0%|          | 0/119 [00:00<?, ?it/s]"
      ],
      "application/vnd.jupyter.widget-view+json": {
       "version_major": 2,
       "version_minor": 0,
       "model_id": "6d688753e0d7406fa9834629852aae2a"
      }
     },
     "metadata": {},
     "output_type": "display_data"
    },
    {
     "data": {
      "text/plain": [
       "Epoch 20/20 [Val]:   0%|          | 0/26 [00:00<?, ?it/s]"
      ],
      "application/vnd.jupyter.widget-view+json": {
       "version_major": 2,
       "version_minor": 0,
       "model_id": "c1ac6e4300dd4ef9ad7c9c08de51b4e4"
      }
     },
     "metadata": {},
     "output_type": "display_data"
    },
    {
     "name": "stdout",
     "output_type": "stream",
     "text": [
      "Epoch 20/20:\n",
      "  Train Loss: 0.0829, Train Acc: 0.9696\n",
      "  Val Loss: 0.1328, Val Acc: 0.9519\n",
      "  Val Precision: 0.9639, Recall: 0.8889, F1: 0.9249\n",
      "\n",
      "Validation Results:\n",
      "  Accuracy: 0.9519\n",
      "  Precision: 0.9639\n",
      "  Recall: 0.8889\n",
      "  F1-Score: 0.9249\n",
      "  AUC: 0.9865\n",
      "  Training time: 6.13 minutes\n",
      "\n",
      "BEST MODEL SELECTION\n",
      "----------------------------------------\n",
      "Best model: mobilenet_v3\n",
      "Validation F1-Score: 0.9249\n"
     ]
    }
   ],
   "execution_count": 11
  },
  {
   "metadata": {},
   "cell_type": "markdown",
   "source": "# 6. EVALUATING ON TEST SET",
   "id": "4ca51caba8492844"
  },
  {
   "metadata": {
    "ExecuteTime": {
     "end_time": "2025-08-15T03:53:56.231551Z",
     "start_time": "2025-08-15T03:53:54.275893Z"
    }
   },
   "cell_type": "code",
   "source": [
    "# Load best model\n",
    "best_model = create_model(best_model_name)\n",
    "checkpoint = torch.load(MODELS_DIR / f'cnn_{best_model_name}_best.pth')\n",
    "best_model.load_state_dict(checkpoint['model_state_dict'])\n",
    "best_model = best_model.to(device)\n",
    "best_model.eval()\n",
    "\n",
    "test_labels_all = []\n",
    "test_preds_all = []\n",
    "test_probs_all = []\n",
    "\n",
    "with torch.no_grad():\n",
    "    test_bar = tqdm(test_loader, desc='Testing')\n",
    "    for images, labels in test_bar:\n",
    "        images, labels = images.to(device), labels.to(device)\n",
    "        outputs = best_model(images)\n",
    "        probs = torch.softmax(outputs, dim=1)\n",
    "        _, predicted = torch.max(outputs.data, 1)\n",
    "\n",
    "        test_labels_all.extend(labels.cpu().numpy())\n",
    "        test_preds_all.extend(predicted.cpu().numpy())\n",
    "        test_probs_all.extend(probs[:, 1].cpu().numpy())\n",
    "\n",
    "# Calculate test metrics\n",
    "test_acc = accuracy_score(test_labels_all, test_preds_all)\n",
    "test_precision, test_recall, test_f1, _ = precision_recall_fscore_support(\n",
    "    test_labels_all, test_preds_all, average='binary', zero_division=0\n",
    ")\n",
    "test_auc = roc_auc_score(test_labels_all, test_probs_all)\n",
    "test_cm = confusion_matrix(test_labels_all, test_preds_all, labels=[0, 1])\n",
    "\n",
    "print(f\"\\nTest Set Results ({best_model_name}):\")\n",
    "print(f\"  Accuracy: {test_acc:.4f}\")\n",
    "print(f\"  Precision: {test_precision:.4f}\")\n",
    "print(f\"  Recall: {test_recall:.4f}\")\n",
    "print(f\"  F1-Score: {test_f1:.4f}\")\n",
    "print(f\"  AUC: {test_auc:.4f}\")\n",
    "\n",
    "print(f\"\\nConfusion Matrix:\")\n",
    "print(f\"  TN: {test_cm[0,0]}, FP: {test_cm[0,1]}\")\n",
    "print(f\"  FN: {test_cm[1,0]}, TP: {test_cm[1,1]}\")"
   ],
   "id": "8662f5bd2f339c8d",
   "outputs": [
    {
     "data": {
      "text/plain": [
       "Testing:   0%|          | 0/26 [00:00<?, ?it/s]"
      ],
      "application/vnd.jupyter.widget-view+json": {
       "version_major": 2,
       "version_minor": 0,
       "model_id": "76dd45864a3740c5b50b8c537ce68cfa"
      }
     },
     "metadata": {},
     "output_type": "display_data"
    },
    {
     "name": "stdout",
     "output_type": "stream",
     "text": [
      "\n",
      "Test Set Results (mobilenet_v3):\n",
      "  Accuracy: 0.9395\n",
      "  Precision: 0.9702\n",
      "  Recall: 0.8444\n",
      "  F1-Score: 0.9030\n",
      "  AUC: 0.9822\n",
      "\n",
      "Confusion Matrix:\n",
      "  TN: 533, FP: 7\n",
      "  FN: 42, TP: 228\n"
     ]
    }
   ],
   "execution_count": 12
  },
  {
   "metadata": {
    "ExecuteTime": {
     "end_time": "2025-08-15T03:53:56.245598Z",
     "start_time": "2025-08-15T03:53:56.241550Z"
    }
   },
   "cell_type": "code",
   "source": [
    "# Save all results\n",
    "all_results = {\n",
    "    'models': results,\n",
    "    'best_model': best_model_name,\n",
    "    'test_results': {\n",
    "        'model': best_model_name,\n",
    "        'accuracy': test_acc,\n",
    "        'precision': test_precision,\n",
    "        'recall': test_recall,\n",
    "        'f1_score': test_f1,\n",
    "        'auc': test_auc,\n",
    "        'confusion_matrix': test_cm.tolist()\n",
    "    },\n",
    "    'hyperparameters': {\n",
    "        'batch_size': BATCH_SIZE,\n",
    "        'learning_rate': LEARNING_RATE,\n",
    "        'num_epochs': NUM_EPOCHS,\n",
    "        'early_stopping_patience': EARLY_STOPPING_PATIENCE,\n",
    "        'image_size': IMAGE_SIZE\n",
    "    },\n",
    "    'augmentation': {\n",
    "        'train': 'RandomResizedCrop, Flips, Rotation, ColorJitter, Perspective, Grayscale, Blur',\n",
    "        'val_test': 'Resize, CenterCrop'\n",
    "    }\n",
    "}\n",
    "\n",
    "with open(METRICS_DIR / 'cnn_results.json', 'w') as f:\n",
    "    json.dump(all_results, f, indent=2)\n",
    "\n",
    "print(f\"\\nResults saved to: {METRICS_DIR / 'cnn_results.json'}\")"
   ],
   "id": "43ef2cd1d76fea66",
   "outputs": [
    {
     "name": "stdout",
     "output_type": "stream",
     "text": [
      "\n",
      "Results saved to: /home/tony/research_project/iate_project/results/metrics/cnn_results.json\n"
     ]
    }
   ],
   "execution_count": 13
  },
  {
   "metadata": {
    "ExecuteTime": {
     "end_time": "2025-08-15T03:54:00.661063Z",
     "start_time": "2025-08-15T03:54:00.635090Z"
    }
   },
   "cell_type": "code",
   "source": [
    "# Save final model for deployment\n",
    "torch.save({\n",
    "    'model_name': best_model_name,\n",
    "    'model_state_dict': best_model.state_dict(),\n",
    "    'test_accuracy': test_acc,\n",
    "    'test_f1_score': test_f1\n",
    "}, MODELS_DIR / 'final_model.pth')\n",
    "\n",
    "print(f\"Final model saved to: {MODELS_DIR / 'final_model.pth'}\")"
   ],
   "id": "c4ff35c712619d9c",
   "outputs": [
    {
     "name": "stdout",
     "output_type": "stream",
     "text": [
      "Final model saved to: /home/tony/research_project/iate_project/results/models/final_model.pth\n"
     ]
    }
   ],
   "execution_count": 14
  },
  {
   "metadata": {
    "ExecuteTime": {
     "end_time": "2025-08-15T03:54:02.564448Z",
     "start_time": "2025-08-15T03:54:02.561833Z"
    }
   },
   "cell_type": "code",
   "source": [
    "print(f\"\\nBest Model: {best_model_name}\")\n",
    "print(f\"Test F1-Score: {test_f1:.4f}\")\n",
    "print(f\"Test Accuracy: {test_acc:.4f}\")"
   ],
   "id": "2b60d2195e696c85",
   "outputs": [
    {
     "name": "stdout",
     "output_type": "stream",
     "text": [
      "\n",
      "Best Model: mobilenet_v3\n",
      "Test F1-Score: 0.9030\n",
      "Test Accuracy: 0.9395\n"
     ]
    }
   ],
   "execution_count": 15
  }
 ],
 "metadata": {
  "kernelspec": {
   "display_name": "Python 3",
   "language": "python",
   "name": "python3"
  },
  "language_info": {
   "codemirror_mode": {
    "name": "ipython",
    "version": 2
   },
   "file_extension": ".py",
   "mimetype": "text/x-python",
   "name": "python",
   "nbconvert_exporter": "python",
   "pygments_lexer": "ipython2",
   "version": "2.7.6"
  }
 },
 "nbformat": 4,
 "nbformat_minor": 5
}
